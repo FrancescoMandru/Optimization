{
 "cells": [
  {
   "cell_type": "markdown",
   "metadata": {},
   "source": [
    "## Accelegrad vs UnixGrad Analysis "
   ]
  },
  {
   "cell_type": "markdown",
   "metadata": {},
   "source": [
    "#### Import Libraries "
   ]
  },
  {
   "cell_type": "code",
   "execution_count": 1,
   "metadata": {},
   "outputs": [
    {
     "name": "stdout",
     "output_type": "stream",
     "text": [
      "Main Directory:  /Users/francescomandru/Desktop/Projects/Optimization\n"
     ]
    }
   ],
   "source": [
    "import os\n",
    "import sys\n",
    "import numpy as np\n",
    "from scipy import sparse \n",
    "import pandas as pd\n",
    "from random import randrange\n",
    "import matplotlib.pyplot as plt\n",
    "plt.rcParams['figure.figsize'] = [10, 5]\n",
    "from sklearn.model_selection import train_test_split\n",
    "from sklearn import preprocessing\n",
    "from sklearn.utils import shuffle\n",
    "from tqdm.notebook import tqdm\n",
    "\n",
    "\n",
    "module_path = os.path.abspath(os.path.join('../'))\n",
    "if module_path not in sys.path:\n",
    "    sys.path.append(module_path)\n",
    "print(\"Main Directory: \", module_path)\n",
    "\n",
    "\n",
    "from IPython.display import set_matplotlib_formats\n",
    "set_matplotlib_formats('retina')"
   ]
  },
  {
   "cell_type": "code",
   "execution_count": 2,
   "metadata": {},
   "outputs": [],
   "source": [
    "def load_data( path ):\n",
    "\n",
    "    # import\n",
    "    data = pd.read_csv( path, delimiter=',')\n",
    "    data = data.drop('id', axis=1)\n",
    "    data = data.drop('Unnamed: 32', axis=1)\n",
    "    data['diagnosis'] = np.array(data['diagnosis'].map(lambda x: 1 if x=='M' else -1))\n",
    "    \n",
    "    features = np.array(data)[:,1:]\n",
    "    b = np.ones(len(features)).reshape(-1,1)\n",
    "    features = np.hstack((features,b))\n",
    "    \n",
    "    # normalization\n",
    "    scaler = preprocessing.StandardScaler().fit(features)\n",
    "    features = scaler.transform(features)\n",
    "\n",
    "    #features = np.hstack((np.ones((features.shape[0],1)),features))\n",
    "\n",
    "    # labels\n",
    "    labels = np.array(data)[:,0]\n",
    "    labels[labels==0] = -1\n",
    "    labels = labels.reshape((-1,1))\n",
    "\n",
    "    return shuffle(features, labels)"
   ]
  },
  {
   "cell_type": "code",
   "execution_count": 3,
   "metadata": {},
   "outputs": [
    {
     "name": "stdout",
     "output_type": "stream",
     "text": [
      "Dataset shape:  (569, 31)\n",
      "Labels shape:  (569, 1)\n",
      "TRAIN len:  455\n",
      "TEST len:  114\n",
      "Weights shape:  (31, 1)\n"
     ]
    }
   ],
   "source": [
    "X, y = load_data( os.path.join(module_path,\"datasets/data.csv\") )\n",
    "print(\"Dataset shape: \", X.shape)\n",
    "print(\"Labels shape: \", y.shape)\n",
    "X_train, X_test, y_train, y_test = train_test_split(X, y, test_size=0.20, random_state=42)\n",
    "print(\"TRAIN len: \", len(X_train))\n",
    "print(\"TEST len: \", len(X_test))\n",
    "#initialize initial weights as a sparse matrix. \n",
    "weights_initial = np.random.rand(1,X.shape[1]).T\n",
    "print(\"Weights shape: \", weights_initial.shape)"
   ]
  },
  {
   "cell_type": "code",
   "execution_count": 7,
   "metadata": {},
   "outputs": [],
   "source": [
    "def gen_least_square_data(n, d, R):\n",
    "    \"\"\"Generate a sintethic dataset which solution\n",
    "    is given by a least square problem minimization.\n",
    "    Input:\n",
    "        n = number of samples\n",
    "        d = dimension of dataset\n",
    "        R = Diameter of the ball \n",
    "    Output:\n",
    "        x_star = Optimal weights \n",
    "        f_star = minimum achievable error\n",
    "    \"\"\"\n",
    "    mean = np.zeros(d)\n",
    "    sigma = 1\n",
    "    cov = (sigma**2)*np.eye(d)\n",
    "    b = np.random.normal(0,1e-03,n).reshape(-1,1)    \n",
    "    \n",
    "    A = np.random.multivariate_normal(mean, cov, n)\n",
    "\n",
    "    x_star = np.dot( np.dot( np.linalg.inv( np.dot(A.T, A) ), A.T), b )\n",
    "    if(np.linalg.norm(x_star) > R):\n",
    "        x_proj = gradient_projection(x_star, d)\n",
    "    f_star = np.linalg.norm(np.dot(A, x_star) - b, ord=2)\n",
    "    \n",
    "    return x_star, f_star\n",
    "def batch_gen(data,labels,batch_size):\n",
    "    \n",
    "    # Elimina gli ultimi elementi per ottenere un array divisibile senza resto per batch_size\n",
    "    s = int(len(data) % batch_size)\n",
    "    if(s!=0):\n",
    "        num_batches = len(data[:-s]) // batch_size\n",
    "        return np.split(data[:-s], num_batches, axis=0), np.split(labels[:-s], num_batches, axis=0)\n",
    "    else:\n",
    "        num_batches = len(data) // batch_size\n",
    "        return np.split(data, num_batches, axis=0), np.split(labels, num_batches, axis=0)\n",
    "\n",
    "def random_batch_selection(batches, labels):\n",
    "    num_batches = len(batches)\n",
    "    rnd_batch = randrange(num_batches)\n",
    "    return batches[rnd_batch], labels[rnd_batch]\n",
    "\n",
    "def squared_hinge_loss(x, w, y, l):\n",
    "    \"\"\"Squared hinge loss function + L2 Regularization. \n",
    "    Input:  \n",
    "        x: Sample\n",
    "        w: Weights\n",
    "        y: True label\n",
    "        l: Lambda regularization value\n",
    "    Return:\n",
    "        Squared hinge loss + L2 Regularization\n",
    "    \"\"\"\n",
    "    m = len(x)\n",
    "    loss = (1/m) * np.sum( np.maximum( 0, 1 - y*np.dot(x,w) )**2 ) + l * np.sum(w*w)\n",
    "    return loss\n",
    "\n",
    "def grad(x, w, y, l):\n",
    "    \"\"\"\n",
    "    Compute the gradient of the squared hinge loss + L2 regularization\n",
    "    Input:  \n",
    "        x: Sample\n",
    "        w: Weights\n",
    "        y: True label\n",
    "        l: Lambda regularization value\n",
    "    Return:\n",
    "        Squared hinge loss + L2 Regularization\n",
    "    \"\"\"    \n",
    "    m = len(x)\n",
    "    grad = (1/m)*np.sum( np.maximum( 0, 2*(1-y*np.dot(x,w)) - y*x ), axis=0 ) +2*l*w.T\n",
    "    return grad\n",
    "\n",
    "def gradient_projection(grad, diameter):\n",
    "        return (diameter/2)*( grad / np.linalg.norm(grad) )\n",
    "    \n",
    "    \n",
    "def predict(x, w):\n",
    "    return np.sign( np.dot(x,w) )\n",
    "\n",
    "def get_accuracy(y_pred,y_test):\n",
    "    corr, _ = np.where( (y_pred - y_test.T) == 0 )\n",
    "    return len(corr) / len(y_pred)\n",
    "\n",
    "def accelegrad(weights,\n",
    "               features,\n",
    "               labels,\n",
    "               diameter=10**4,\n",
    "               lamb=0.01,\n",
    "               max_iter=100):\n",
    "    \n",
    "    print(\"*\"*33)\n",
    "    print(\"-----> ACCELEGRAD OPTIMIZER <----\")\n",
    "    print(\"*\"*33)\n",
    "\n",
    "    print(\"\\n\")\n",
    "\n",
    "\n",
    "    # Set loss function array\n",
    "    loss = np.zeros(max_iter)\n",
    "    # Set the array where we store each y_t value to compute the mean at the end\n",
    "    # (weights x num iterations)\n",
    "    ys = np.zeros((weights.shape[0],max_iter))\n",
    "    # Initial weights\n",
    "    x_i = weights[:,0]\n",
    "    # Set the gradient history (weights x num iterations)\n",
    "    grad_hist = np.zeros((weights.shape[0],max_iter))\n",
    "    grad_hist[:,0] = grad(features, weights, labels, lamb)\n",
    "    # Set y_t and z_t equal to the initial weights\n",
    "    ys[:,0] = x_i\n",
    "    z_i = x_i\n",
    "    # Set alpha weights\n",
    "    alpha_weights = np.ones(max_iter)\n",
    "    for t in range(3,max_iter):\n",
    "        alpha_weights[t] = 1/4*(t+1)\n",
    "        \n",
    "    # Set tau\n",
    "    tau = np.zeros(max_iter)\n",
    "    for t in range(max_iter):\n",
    "        tau[t] = 1/alpha_weights[t]\n",
    "                \n",
    "    # Set initial Step Size\n",
    "    step_size = 2*diameter/np.sqrt( (alpha_weights[0]**2)*np.linalg.norm(grad_hist[:,0])**2 )\n",
    "    \n",
    "    print(\"\\n --- INITIAL STEP SIZE ---> \",step_size)\n",
    "    # Build the batches of size 5\n",
    "    batches, labels = batch_gen(features,labels,64)\n",
    "        \n",
    "    for i in range(1,max_iter):\n",
    "        # Select a batch at random:\n",
    "        batch, lab = random_batch_selection(batches,labels)\n",
    "        # Compute x_t\n",
    "        x_i = tau[i] * z_i + (1 - tau[i]) * ys[:,i]\n",
    "        # Compute the projected gradient \n",
    "        grad_hist[:,i] = grad(batch, x_i.reshape(-1,1), lab, lamb)\n",
    "        #print(grad_hist)\n",
    "        # Update Step size\n",
    "        step_size = 2*diameter/ np.sqrt( np.sum( (alpha_weights[:i]**2)*np.linalg.norm(grad_hist[:,i],axis=0)**2 ) )\n",
    "        #print(step_size)\n",
    "        # Compute z_t\n",
    "        z_i = gradient_projection( z_i - alpha_weights[i]*step_size*grad_hist[:,i], diameter )\n",
    "        # Compute y_t\n",
    "        ys[:,i] = x_i - step_size*grad_hist[:,i]\n",
    "        # Update loss\n",
    "        #print(alpha_weights[:i].shape)\n",
    "        #print(ys[:,:i].shape)\n",
    "        #print(1/i * np.sum(alpha_weights[:i] * ys[:,:i], axis=1))\n",
    "        #a = (1/i) * np.sum(alpha_weights[:i] * ys[:,:i], axis=1)\n",
    "        #print(a.shape)\n",
    "        avg = np.mean(ys[:,:i])\n",
    "        loss[i] = squared_hinge_loss(batch, ys[:,i], lab, lamb)\n",
    "        \n",
    "    \n",
    "    return loss, 1/max_iter * np.sum(alpha_weights[:-1] * ys[:,1:], axis=1)\n",
    "    "
   ]
  },
  {
   "cell_type": "code",
   "execution_count": 8,
   "metadata": {},
   "outputs": [
    {
     "name": "stdout",
     "output_type": "stream",
     "text": [
      "*********************************\n",
      "-----> ACCELEGRAD OPTIMIZER <----\n",
      "*********************************\n",
      "\n",
      "\n",
      "\n",
      " --- INITIAL STEP SIZE --->  321.75623944109213\n"
     ]
    }
   ],
   "source": [
    "a, b = accelegrad(weights_initial,\n",
    "               X_train,\n",
    "               y_train,\n",
    "               diameter=10**3,\n",
    "               lamb=0.0001,\n",
    "               max_iter=10000)"
   ]
  },
  {
   "cell_type": "code",
   "execution_count": 9,
   "metadata": {},
   "outputs": [
    {
     "name": "stdout",
     "output_type": "stream",
     "text": [
      "Accuracy:  0.09649122807017543\n"
     ]
    },
    {
     "data": {
      "image/png": "[encoded data removed]",
      "text/plain": [
       "<Figure size 720x360 with 1 Axes>"
      ]
     },
     "metadata": {
      "image/png": {
       "height": 304,
       "width": 597
      },
      "needs_background": "light"
     },
     "output_type": "display_data"
    }
   ],
   "source": [
    "plt.plot(a)\n",
    "plt.grid()\n",
    "plt.yscale('log')\n",
    "plt.xscale('log')\n",
    "\n",
    "\n",
    "y_pred = predict(X_test, b)\n",
    "print(\"Accuracy: \", get_accuracy(y_pred,y_test))"
   ]
  },
  {
   "cell_type": "code",
   "execution_count": null,
   "metadata": {},
   "outputs": [],
   "source": []
  }
 ],
 "metadata": {
  "kernelspec": {
   "display_name": "Python 3",
   "language": "python",
   "name": "python3"
  },
  "language_info": {
   "codemirror_mode": {
    "name": "ipython",
    "version": 3
   },
   "file_extension": ".py",
   "mimetype": "text/x-python",
   "name": "python",
   "nbconvert_exporter": "python",
   "pygments_lexer": "ipython3",
   "version": "3.8.6"
  },
  "toc": {
   "base_numbering": 1,
   "nav_menu": {},
   "number_sections": true,
   "sideBar": true,
   "skip_h1_title": false,
   "title_cell": "Table of Contents",
   "title_sidebar": "Contents",
   "toc_cell": false,
   "toc_position": {},
   "toc_section_display": true,
   "toc_window_display": false
  }
 },
 "nbformat": 4,
 "nbformat_minor": 4
}
